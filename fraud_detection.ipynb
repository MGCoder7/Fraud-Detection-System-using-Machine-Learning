{
 "cells": [
  {
   "cell_type": "markdown",
   "id": "0b2ddb68-6ed7-4a6f-a71d-46242093963e",
   "metadata": {},
   "source": [
    "### Fraud Detection System using ML"
   ]
  },
  {
   "cell_type": "markdown",
   "id": "36c68838-d31b-48ea-8559-404ea6592fe3",
   "metadata": {},
   "source": [
    "### Step 1: Load and Explore the Dataset"
   ]
  },
  {
   "cell_type": "code",
   "execution_count": 33,
   "id": "6bb5b48b-2645-4597-ab24-c74956fd80d7",
   "metadata": {},
   "outputs": [],
   "source": [
    "import pandas as pd\n",
    "import numpy as np\n",
    "import matplotlib.pyplot as plt\n",
    "import seaborn as sns\n",
    "from sklearn.model_selection import train_test_split, GridSearchCV, RandomizedSearchCV\n",
    "from sklearn.ensemble import RandomForestClassifier, IsolationForest\n",
    "from xgboost import XGBClassifier\n",
    "from sklearn.metrics import classification_report, confusion_matrix, roc_auc_score, roc_curve, precision_score, recall_score, f1_score\n",
    "from sklearn.preprocessing import StandardScaler\n",
    "from imblearn.over_sampling import SMOTE\n",
    "from sklearn.neural_network import MLPRegressor\n",
    "from sklearn.metrics import mean_squared_error\n",
    "from tensorflow.keras.models import Model\n",
    "from tensorflow.keras.layers import Input, Dense\n",
    "from tensorflow.keras import regularizers\n",
    "from sklearn.preprocessing import MinMaxScaler\n",
    "import tensorflow as tf"
   ]
  },
  {
   "cell_type": "code",
   "execution_count": 3,
   "id": "db834574-f572-4ff9-9cf9-bebdf49b02ee",
   "metadata": {},
   "outputs": [
    {
     "name": "stdout",
     "output_type": "stream",
     "text": [
      "Dataset shape: (284807, 31)\n",
      "Column names:\n",
      " Index(['Time', 'V1', 'V2', 'V3', 'V4', 'V5', 'V6', 'V7', 'V8', 'V9', 'V10',\n",
      "       'V11', 'V12', 'V13', 'V14', 'V15', 'V16', 'V17', 'V18', 'V19', 'V20',\n",
      "       'V21', 'V22', 'V23', 'V24', 'V25', 'V26', 'V27', 'V28', 'Amount',\n",
      "       'Class'],\n",
      "      dtype='object')\n",
      "Class distribution:\n",
      "Class\n",
      "0    284315\n",
      "1       492\n",
      "Name: count, dtype: int64\n"
     ]
    },
    {
     "data": {
      "image/png": "[encoded data removed]",
      "text/plain": [
       "<Figure size 640x480 with 1 Axes>"
      ]
     },
     "metadata": {},
     "output_type": "display_data"
    }
   ],
   "source": [
    "df = pd.read_csv(\"creditcard.csv\")\n",
    "\n",
    "# Explore dataset\n",
    "print(\"Dataset shape:\", df.shape)\n",
    "print(\"Column names:\\n\", df.columns)\n",
    "print(\"Class distribution:\")\n",
    "print(df['Class'].value_counts())\n",
    "sns.countplot(x='Class', data=df)\n",
    "plt.title(\"Class Distribution\")\n",
    "plt.show()"
   ]
  },
  {
   "cell_type": "markdown",
   "id": "02b4e929-2437-4a52-9f16-300d14059b71",
   "metadata": {},
   "source": [
    "### Step 2: Feature Engineering"
   ]
  },
  {
   "cell_type": "code",
   "execution_count": 5,
   "id": "a5fcb978-c625-46e2-96f1-3d1787f55c2a",
   "metadata": {},
   "outputs": [
    {
     "name": "stdout",
     "output_type": "stream",
     "text": [
      "Missing values:\n",
      "Time      0\n",
      "V1        0\n",
      "V2        0\n",
      "V3        0\n",
      "V4        0\n",
      "V5        0\n",
      "V6        0\n",
      "V7        0\n",
      "V8        0\n",
      "V9        0\n",
      "V10       0\n",
      "V11       0\n",
      "V12       0\n",
      "V13       0\n",
      "V14       0\n",
      "V15       0\n",
      "V16       0\n",
      "V17       0\n",
      "V18       0\n",
      "V19       0\n",
      "V20       0\n",
      "V21       0\n",
      "V22       0\n",
      "V23       0\n",
      "V24       0\n",
      "V25       0\n",
      "V26       0\n",
      "V27       0\n",
      "V28       0\n",
      "Amount    0\n",
      "Class     0\n",
      "dtype: int64\n"
     ]
    }
   ],
   "source": [
    "# Check for missing values\n",
    "print(\"Missing values:\")\n",
    "print(df.isnull().sum())\n",
    "\n",
    "# Scaling 'Amount' feature\n",
    "scaler = StandardScaler()\n",
    "df['scaled_amount'] = scaler.fit_transform(df[['Amount']])\n",
    "df['scaled_time'] = scaler.fit_transform(df[['Time']])\n",
    "\n",
    "# Drop original 'Time' and 'Amount'\n",
    "df.drop(['Time', 'Amount'], axis=1, inplace=True)\n",
    "\n",
    "# Reorder columns\n",
    "scaled_amount = df['scaled_amount']\n",
    "scaled_time = df['scaled_time']\n",
    "df.drop(['scaled_amount', 'scaled_time'], axis=1, inplace=True)\n",
    "df.insert(0, 'scaled_amount', scaled_amount)\n",
    "df.insert(1, 'scaled_time', scaled_time)"
   ]
  },
  {
   "cell_type": "markdown",
   "id": "0e649960-647f-4ea4-a5f7-a52993a0e7e6",
   "metadata": {},
   "source": [
    "### Step 3: Train-Test Split and Handling Imbalance"
   ]
  },
  {
   "cell_type": "code",
   "execution_count": 7,
   "id": "02a7fda5-00be-4771-aebb-103ed35b903f",
   "metadata": {},
   "outputs": [
    {
     "name": "stdout",
     "output_type": "stream",
     "text": [
      "After SMOTE: \n",
      "Class\n",
      "0    284315\n",
      "1    284315\n",
      "Name: count, dtype: int64\n"
     ]
    }
   ],
   "source": [
    "X = df.drop('Class', axis=1)\n",
    "y = df['Class']\n",
    "\n",
    "# Use SMOTE for balancing\n",
    "sm = SMOTE(random_state=42)\n",
    "X_res, y_res = sm.fit_resample(X, y)\n",
    "\n",
    "print(\"After SMOTE: \")\n",
    "print(pd.Series(y_res).value_counts())\n",
    "\n",
    "X_train, X_test, y_train, y_test = train_test_split(X_res, y_res, test_size=0.3, random_state=42)"
   ]
  },
  {
   "cell_type": "markdown",
   "id": "7627f1bf-f58f-4728-9227-9900faa0df80",
   "metadata": {},
   "source": [
    "### Step 4: Train Baseline Model (Random Forest)"
   ]
  },
  {
   "cell_type": "code",
   "execution_count": 9,
   "id": "eb27bb7c-85a9-41db-9569-28f7d1f80e0a",
   "metadata": {
    "scrolled": true
   },
   "outputs": [
    {
     "name": "stdout",
     "output_type": "stream",
     "text": [
      "Random Forest Classification Report:\n",
      "              precision    recall  f1-score   support\n",
      "\n",
      "           0       1.00      1.00      1.00     85149\n",
      "           1       1.00      1.00      1.00     85440\n",
      "\n",
      "    accuracy                           1.00    170589\n",
      "   macro avg       1.00      1.00      1.00    170589\n",
      "weighted avg       1.00      1.00      1.00    170589\n",
      "\n"
     ]
    }
   ],
   "source": [
    "rf = RandomForestClassifier(random_state=42)\n",
    "rf.fit(X_train, y_train)\n",
    "y_pred = rf.predict(X_test)\n",
    "\n",
    "print(\"Random Forest Classification Report:\")\n",
    "print(classification_report(y_test, y_pred))"
   ]
  },
  {
   "cell_type": "markdown",
   "id": "6b94123a-5b20-4657-8877-5b3b0521569e",
   "metadata": {},
   "source": [
    "### Step 5: Hyperparameter Tuning (Random Forest using RandomizedSearchCV)"
   ]
  },
  {
   "cell_type": "code",
   "execution_count": 17,
   "id": "2e3e9e78-13b7-4440-9b53-fe3db7d94c2c",
   "metadata": {},
   "outputs": [
    {
     "name": "stdout",
     "output_type": "stream",
     "text": [
      "Best parameters: {'n_estimators': 100, 'min_samples_split': 5, 'min_samples_leaf': 1, 'max_depth': None}\n",
      "Tuned Random Forest Classification Report:\n",
      "              precision    recall  f1-score   support\n",
      "\n",
      "           0       1.00      1.00      1.00     85149\n",
      "           1       1.00      1.00      1.00     85440\n",
      "\n",
      "    accuracy                           1.00    170589\n",
      "   macro avg       1.00      1.00      1.00    170589\n",
      "weighted avg       1.00      1.00      1.00    170589\n",
      "\n"
     ]
    }
   ],
   "source": [
    "param_dist = {\n",
    "    'n_estimators': [50, 100, 150],\n",
    "    'max_depth': [None, 10, 20, 30],\n",
    "    'min_samples_split': [2, 5, 10],\n",
    "    'min_samples_leaf': [1, 2, 4]\n",
    "}\n",
    "random_search_rf = RandomizedSearchCV(estimator=rf, param_distributions=param_dist, n_iter=10, cv=3, scoring='f1', n_jobs=-1, random_state=42)\n",
    "random_search_rf.fit(X_train, y_train)\n",
    "\n",
    "print(\"Best parameters:\", random_search_rf.best_params_)\n",
    "best_rf = random_search_rf.best_estimator_\n",
    "y_pred_best = best_rf.predict(X_test)\n",
    "\n",
    "print(\"Tuned Random Forest Classification Report:\")\n",
    "print(classification_report(y_test, y_pred_best))\n"
   ]
  },
  {
   "cell_type": "markdown",
   "id": "a384cd29-a440-4300-a37e-31492138eb83",
   "metadata": {},
   "source": [
    "### Step 6: Evaluation Metrics"
   ]
  },
  {
   "cell_type": "code",
   "execution_count": 19,
   "id": "bce34f83-c53c-4d49-8418-29394508e9a4",
   "metadata": {},
   "outputs": [
    {
     "name": "stdout",
     "output_type": "stream",
     "text": [
      "Precision: 0.9997893702169487\n",
      "Recall: 1.0\n",
      "F1 Score: 0.9998946740160798\n",
      "AUC-ROC: 0.9998943029278089\n"
     ]
    },
    {
     "data": {
      "image/png": "[encoded data removed]",
      "text/plain": [
       "<Figure size 640x480 with 2 Axes>"
      ]
     },
     "metadata": {},
     "output_type": "display_data"
    },
    {
     "data": {
      "image/png": "[encoded data removed]",
      "text/plain": [
       "<Figure size 640x480 with 1 Axes>"
      ]
     },
     "metadata": {},
     "output_type": "display_data"
    },
    {
     "data": {
      "image/png": "[encoded data removed]",
      "text/plain": [
       "<Figure size 640x480 with 1 Axes>"
      ]
     },
     "metadata": {},
     "output_type": "display_data"
    }
   ],
   "source": [
    "print(\"Precision:\", precision_score(y_test, y_pred_best))\n",
    "print(\"Recall:\", recall_score(y_test, y_pred_best))\n",
    "print(\"F1 Score:\", f1_score(y_test, y_pred_best))\n",
    "print(\"AUC-ROC:\", roc_auc_score(y_test, y_pred_best))\n",
    "\n",
    "# Confusion Matrix\n",
    "conf_matrix = confusion_matrix(y_test, y_pred_best)\n",
    "sns.heatmap(conf_matrix, annot=True, fmt='d', cmap='Blues')\n",
    "plt.title(\"Confusion Matrix\")\n",
    "plt.xlabel(\"Predicted\")\n",
    "plt.ylabel(\"Actual\")\n",
    "plt.show()\n",
    "\n",
    "# ROC Curve\n",
    "fpr, tpr, _ = roc_curve(y_test, best_rf.predict_proba(X_test)[:,1])\n",
    "plt.plot(fpr, tpr, label='ROC Curve')\n",
    "plt.plot([0, 1], [0, 1], linestyle='--')\n",
    "plt.title(\"ROC Curve\")\n",
    "plt.xlabel(\"False Positive Rate\")\n",
    "plt.ylabel(\"True Positive Rate\")\n",
    "plt.legend()\n",
    "plt.show()\n",
    "\n",
    "# Feature Importances\n",
    "feat_importances = pd.Series(best_rf.feature_importances_, index=X.columns)\n",
    "feat_importances.nlargest(10).plot(kind='barh')\n",
    "plt.title(\"Top 10 Feature Importances\")\n",
    "plt.show()"
   ]
  },
  {
   "cell_type": "markdown",
   "id": "876edd48-9f20-4a31-9177-fd5ac9ec8bb3",
   "metadata": {},
   "source": [
    "### Bonus: Anomaly Detection - Isolation Forest"
   ]
  },
  {
   "cell_type": "code",
   "execution_count": 21,
   "id": "163b649a-be15-4728-a4cf-f9f4de69b90f",
   "metadata": {},
   "outputs": [
    {
     "name": "stdout",
     "output_type": "stream",
     "text": [
      "Isolation Forest Classification Report:\n",
      "              precision    recall  f1-score   support\n",
      "\n",
      "           0       1.00      1.00      1.00    284315\n",
      "           1       0.36      0.21      0.27       492\n",
      "\n",
      "    accuracy                           1.00    284807\n",
      "   macro avg       0.68      0.61      0.63    284807\n",
      "weighted avg       1.00      1.00      1.00    284807\n",
      "\n"
     ]
    }
   ],
   "source": [
    "iso_forest = IsolationForest(contamination=0.001, random_state=42)\n",
    "y_pred_iso = iso_forest.fit_predict(X)\n",
    "y_pred_iso = [1 if x == -1 else 0 for x in y_pred_iso]  # Convert -1 (anomaly) to 1 (fraud)\n",
    "\n",
    "print(\"Isolation Forest Classification Report:\")\n",
    "print(classification_report(y, y_pred_iso))"
   ]
  },
  {
   "cell_type": "markdown",
   "id": "9e37fff2-3ffe-4970-8564-bdcbae955b52",
   "metadata": {},
   "source": [
    "### Bonus: Anomaly Detection - Autoencoder"
   ]
  },
  {
   "cell_type": "code",
   "execution_count": 35,
   "id": "517fe644-ead0-4c61-99f3-ef47b5be8f31",
   "metadata": {},
   "outputs": [
    {
     "name": "stdout",
     "output_type": "stream",
     "text": [
      "Epoch 1/10\n",
      "\u001b[1m7108/7108\u001b[0m \u001b[32m━━━━━━━━━━━━━━━━━━━━\u001b[0m\u001b[37m\u001b[0m \u001b[1m12s\u001b[0m 2ms/step - loss: 0.0143 - val_loss: 0.0016\n",
      "Epoch 2/10\n",
      "\u001b[1m7108/7108\u001b[0m \u001b[32m━━━━━━━━━━━━━━━━━━━━\u001b[0m\u001b[37m\u001b[0m \u001b[1m13s\u001b[0m 2ms/step - loss: 0.0011 - val_loss: 8.5011e-04\n",
      "Epoch 3/10\n",
      "\u001b[1m7108/7108\u001b[0m \u001b[32m━━━━━━━━━━━━━━━━━━━━\u001b[0m\u001b[37m\u001b[0m \u001b[1m11s\u001b[0m 2ms/step - loss: 6.8085e-04 - val_loss: 6.5796e-04\n",
      "Epoch 4/10\n",
      "\u001b[1m7108/7108\u001b[0m \u001b[32m━━━━━━━━━━━━━━━━━━━━\u001b[0m\u001b[37m\u001b[0m \u001b[1m13s\u001b[0m 2ms/step - loss: 5.3827e-04 - val_loss: 5.5931e-04\n",
      "Epoch 5/10\n",
      "\u001b[1m7108/7108\u001b[0m \u001b[32m━━━━━━━━━━━━━━━━━━━━\u001b[0m\u001b[37m\u001b[0m \u001b[1m13s\u001b[0m 2ms/step - loss: 4.6669e-04 - val_loss: 5.0733e-04\n",
      "Epoch 6/10\n",
      "\u001b[1m7108/7108\u001b[0m \u001b[32m━━━━━━━━━━━━━━━━━━━━\u001b[0m\u001b[37m\u001b[0m \u001b[1m11s\u001b[0m 2ms/step - loss: 4.2906e-04 - val_loss: 4.8397e-04\n",
      "Epoch 7/10\n",
      "\u001b[1m7108/7108\u001b[0m \u001b[32m━━━━━━━━━━━━━━━━━━━━\u001b[0m\u001b[37m\u001b[0m \u001b[1m13s\u001b[0m 2ms/step - loss: 4.0464e-04 - val_loss: 4.4882e-04\n",
      "Epoch 8/10\n",
      "\u001b[1m7108/7108\u001b[0m \u001b[32m━━━━━━━━━━━━━━━━━━━━\u001b[0m\u001b[37m\u001b[0m \u001b[1m11s\u001b[0m 2ms/step - loss: 3.8681e-04 - val_loss: 4.4346e-04\n",
      "Epoch 9/10\n",
      "\u001b[1m7108/7108\u001b[0m \u001b[32m━━━━━━━━━━━━━━━━━━━━\u001b[0m\u001b[37m\u001b[0m \u001b[1m13s\u001b[0m 2ms/step - loss: 3.7330e-04 - val_loss: 4.0809e-04\n",
      "Epoch 10/10\n",
      "\u001b[1m7108/7108\u001b[0m \u001b[32m━━━━━━━━━━━━━━━━━━━━\u001b[0m\u001b[37m\u001b[0m \u001b[1m14s\u001b[0m 2ms/step - loss: 3.6694e-04 - val_loss: 4.2989e-04\n",
      "\u001b[1m8885/8885\u001b[0m \u001b[32m━━━━━━━━━━━━━━━━━━━━\u001b[0m\u001b[37m\u001b[0m \u001b[1m6s\u001b[0m 688us/step\n",
      "Reconstruction error threshold: 0.0004926565249139818\n",
      "\u001b[1m16/16\u001b[0m \u001b[32m━━━━━━━━━━━━━━━━━━━━\u001b[0m\u001b[37m\u001b[0m \u001b[1m0s\u001b[0m 3ms/step \n",
      "Autoencoder Detection Report (on actual frauds):\n",
      "              precision    recall  f1-score   support\n",
      "\n",
      "         0.0       0.00      0.00      0.00         0\n",
      "         1.0       1.00      0.87      0.93       492\n",
      "\n",
      "    accuracy                           0.87       492\n",
      "   macro avg       0.50      0.44      0.47       492\n",
      "weighted avg       1.00      0.87      0.93       492\n",
      "\n"
     ]
    },
    {
     "name": "stderr",
     "output_type": "stream",
     "text": [
      "C:\\Users\\Omen\\anaconda3\\envs\\inenv\\Lib\\site-packages\\sklearn\\metrics\\_classification.py:1565: UndefinedMetricWarning: Recall is ill-defined and being set to 0.0 in labels with no true samples. Use `zero_division` parameter to control this behavior.\n",
      "  _warn_prf(average, modifier, f\"{metric.capitalize()} is\", len(result))\n",
      "C:\\Users\\Omen\\anaconda3\\envs\\inenv\\Lib\\site-packages\\sklearn\\metrics\\_classification.py:1565: UndefinedMetricWarning: Recall is ill-defined and being set to 0.0 in labels with no true samples. Use `zero_division` parameter to control this behavior.\n",
      "  _warn_prf(average, modifier, f\"{metric.capitalize()} is\", len(result))\n",
      "C:\\Users\\Omen\\anaconda3\\envs\\inenv\\Lib\\site-packages\\sklearn\\metrics\\_classification.py:1565: UndefinedMetricWarning: Recall is ill-defined and being set to 0.0 in labels with no true samples. Use `zero_division` parameter to control this behavior.\n",
      "  _warn_prf(average, modifier, f\"{metric.capitalize()} is\", len(result))\n"
     ]
    }
   ],
   "source": [
    "# Use only non-fraud samples for training autoencoder\n",
    "X_auto = df[df['Class'] == 0].drop('Class', axis=1)\n",
    "X_fraud = df[df['Class'] == 1].drop('Class', axis=1)\n",
    "\n",
    "# Normalize\n",
    "scaler_ae = MinMaxScaler()\n",
    "X_auto_scaled = scaler_ae.fit_transform(X_auto)\n",
    "X_fraud_scaled = scaler_ae.transform(X_fraud)\n",
    "\n",
    "# Autoencoder model\n",
    "input_dim = X_auto_scaled.shape[1]\n",
    "encoding_dim = 14\n",
    "input_layer = Input(shape=(input_dim,))\n",
    "encoder = Dense(encoding_dim, activation=\"tanh\", activity_regularizer=regularizers.l1(1e-4))(input_layer)\n",
    "decoder = Dense(input_dim, activation='linear')(encoder)\n",
    "autoencoder = Model(inputs=input_layer, outputs=decoder)\n",
    "\n",
    "autoencoder.compile(optimizer='adam', loss='mean_squared_error')\n",
    "autoencoder.fit(X_auto_scaled, X_auto_scaled, epochs=10, batch_size=32, shuffle=True, validation_split=0.2, verbose=1)\n",
    "\n",
    "# Reconstruction error\n",
    "reconstructions = autoencoder.predict(X_auto_scaled)\n",
    "mse = np.mean(np.power(X_auto_scaled - reconstructions, 2), axis=1)\n",
    "threshold = np.percentile(mse, 95)\n",
    "print(\"Reconstruction error threshold:\", threshold)\n",
    "\n",
    "# Test on fraud samples\n",
    "fraud_reconstructions = autoencoder.predict(X_fraud_scaled)\n",
    "mse_fraud = np.mean(np.power(X_fraud_scaled - fraud_reconstructions, 2), axis=1)\n",
    "y_pred_ae = [1 if e > threshold else 0 for e in mse_fraud]\n",
    "\n",
    "print(\"Autoencoder Detection Report (on actual frauds):\")\n",
    "print(classification_report(np.ones(len(y_pred_ae)), y_pred_ae))\n"
   ]
  },
  {
   "cell_type": "code",
   "execution_count": null,
   "id": "2e2e8085-4b54-44ae-9196-34493b998e1c",
   "metadata": {},
   "outputs": [],
   "source": []
  }
 ],
 "metadata": {
  "kernelspec": {
   "display_name": "Python (inenv)",
   "language": "python",
   "name": "inenv"
  },
  "language_info": {
   "codemirror_mode": {
    "name": "ipython",
    "version": 3
   },
   "file_extension": ".py",
   "mimetype": "text/x-python",
   "name": "python",
   "nbconvert_exporter": "python",
   "pygments_lexer": "ipython3",
   "version": "3.11.13"
  }
 },
 "nbformat": 4,
 "nbformat_minor": 5
}
